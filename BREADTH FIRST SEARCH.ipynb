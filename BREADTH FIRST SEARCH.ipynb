{
 "cells": [
  {
   "cell_type": "markdown",
   "id": "a3b94391",
   "metadata": {},
   "source": [
    "## GRAPH REPRESENTATION"
   ]
  },
  {
   "cell_type": "code",
   "execution_count": 1,
   "id": "8ee8b06f",
   "metadata": {},
   "outputs": [],
   "source": [
    "my_graph = {\n",
    "    \n",
    "    'S':['A','B','C'],\n",
    "    'A':['S','B','D'],\n",
    "    'B':['S','A','D','H'],\n",
    "    'C':['S','L'],\n",
    "    'D':['A','B','F'],\n",
    "    'H':['B','F','G'],\n",
    "    'L':['C','I','J'],\n",
    "    'F':['D','H'],    \n",
    "    'G':['H','E'],\n",
    "    'I':['L','K'],\n",
    "    'J':['L','K'],\n",
    "    'E':['G','K'],\n",
    "    'K':['I','J','E']    \n",
    "}"
   ]
  },
  {
   "cell_type": "markdown",
   "id": "411a9977",
   "metadata": {},
   "source": [
    "## IMPORT DEQUE"
   ]
  },
  {
   "cell_type": "code",
   "execution_count": 2,
   "id": "1d1ff0de",
   "metadata": {},
   "outputs": [],
   "source": [
    "from collections import deque"
   ]
  },
  {
   "cell_type": "markdown",
   "id": "3d95281a",
   "metadata": {},
   "source": [
    "## BREADTH FIRST SEARCH"
   ]
  },
  {
   "cell_type": "code",
   "execution_count": 3,
   "id": "47a1a4ee",
   "metadata": {},
   "outputs": [],
   "source": [
    "def bfs(graph,start,goal):\n",
    "    visited = []\n",
    "    queue=deque([start])\n",
    "    while queue:\n",
    "        node = queue.popleft()\n",
    "        if node not in visited :\n",
    "            visited.append(node)\n",
    "            print(\"Have visited: \",node)\n",
    "            neighbours = graph[node]\n",
    "            if node == goal :\n",
    "                return(\"Goal is reached via path: \",visited)\n",
    "            for neighbours in neighbours :\n",
    "                queue.append(neighbours)\n",
    "    "
   ]
  },
  {
   "cell_type": "markdown",
   "id": "2b5a863d",
   "metadata": {},
   "source": [
    "## STARTING NODE - S, ENDING NODE - F"
   ]
  },
  {
   "cell_type": "code",
   "execution_count": 4,
   "id": "42df0a0a",
   "metadata": {
    "scrolled": false
   },
   "outputs": [
    {
     "name": "stdout",
     "output_type": "stream",
     "text": [
      "Have visited:  S\n",
      "Have visited:  A\n",
      "Have visited:  B\n",
      "Have visited:  C\n",
      "Have visited:  D\n",
      "Have visited:  H\n",
      "Have visited:  L\n",
      "Have visited:  F\n"
     ]
    },
    {
     "data": {
      "text/plain": [
       "('Goal is reached via path: ', ['S', 'A', 'B', 'C', 'D', 'H', 'L', 'F'])"
      ]
     },
     "execution_count": 4,
     "metadata": {},
     "output_type": "execute_result"
    }
   ],
   "source": [
    "bfs(my_graph,'S','F')"
   ]
  },
  {
   "cell_type": "markdown",
   "id": "8f8f0c44",
   "metadata": {},
   "source": [
    "## STARTING NODE - S, ENDING NODE - E"
   ]
  },
  {
   "cell_type": "code",
   "execution_count": 5,
   "id": "c2a51fb2",
   "metadata": {},
   "outputs": [
    {
     "name": "stdout",
     "output_type": "stream",
     "text": [
      "Have visited:  S\n",
      "Have visited:  A\n",
      "Have visited:  B\n",
      "Have visited:  C\n",
      "Have visited:  D\n",
      "Have visited:  H\n",
      "Have visited:  L\n",
      "Have visited:  F\n",
      "Have visited:  G\n",
      "Have visited:  I\n",
      "Have visited:  J\n",
      "Have visited:  E\n"
     ]
    },
    {
     "data": {
      "text/plain": [
       "('Goal is reached via path: ',\n",
       " ['S', 'A', 'B', 'C', 'D', 'H', 'L', 'F', 'G', 'I', 'J', 'E'])"
      ]
     },
     "execution_count": 5,
     "metadata": {},
     "output_type": "execute_result"
    }
   ],
   "source": [
    "bfs(my_graph,'S','E')"
   ]
  },
  {
   "cell_type": "markdown",
   "id": "0f05c9fb",
   "metadata": {},
   "source": [
    "## WORK DESCRIPTION BREADTH FIRST SEARCH\n",
    "### INTRODUCTION\n",
    "* Breadth-first search is a recursive graph traversal algorithm that starts traversing the graph from the root node and      explores all the neighboring nodes. \n",
    "* Then, it selects the nearest node and explores all the unexplored nodes.\n",
    "* BFS puts every vertex of the graph into two categories - visited  non-visited. \n",
    "### ALGORITHM\n",
    "* STEP 1 - Start with the source node.\n",
    "* STEP 2 - Add that node at the front of the queue to the visited list.\n",
    "* STEP 3 - Make a list of the nodes as visited that are close to that vertex.\n",
    "* STEP 4 - Dequeue the nodes once they are visited. \n",
    "* STEP 5 - Repeat the actions until the queue is empty.\n",
    "* STEP 6 - Stop.\n",
    "## CASE - 1 \n",
    "### STARTING NODE - S, ENDING NODE - F\n",
    "* The traversal starts at node S (level 0) and ends with node F.\n",
    "* The first level is searched (i.e.,) S to A, B, C.\n",
    "* Then the second level is searched (i.e.,) C to D, H, L.\n",
    "* It is followed by the third level (i.e.,) L to F.\n",
    "* The goal node is reached, so the search stops.\n",
    "* It follows the following route to reach the goal node(F) from the starting node(S):\n",
    "                                S -> A -> B -> C -> D -> H -> L -> F\n",
    "## CASE - 2\n",
    "### STARTING NODE - S, ENDING NODE - E\n",
    "* The traversal starts at node S (level 0) and ends with node E.\n",
    "* The first level is searched (i.e.,) S to A, B, C.\n",
    "* Then the second level is searched (i.e.,) C to D, H, L.\n",
    "* It is followed by the third level (i.e.,) L to F, G, I, J.\n",
    "* It is followed by the fourth level (i.e.,) J to E and since the goal node is reached, the search stops.\n",
    "* It follows the following route to reach the goal node(E) from the starting node(S):\n",
    "                                S -> A -> B -> C -> D -> H -> L -> F -> G -> I -> J -> E"
   ]
  }
 ],
 "metadata": {
  "kernelspec": {
   "display_name": "Python 3 (ipykernel)",
   "language": "python",
   "name": "python3"
  },
  "language_info": {
   "codemirror_mode": {
    "name": "ipython",
    "version": 3
   },
   "file_extension": ".py",
   "mimetype": "text/x-python",
   "name": "python",
   "nbconvert_exporter": "python",
   "pygments_lexer": "ipython3",
   "version": "3.9.13"
  }
 },
 "nbformat": 4,
 "nbformat_minor": 5
}
